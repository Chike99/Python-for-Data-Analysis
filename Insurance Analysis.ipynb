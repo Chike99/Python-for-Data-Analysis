{
 "cells": [
  {
   "attachments": {},
   "cell_type": "markdown",
   "metadata": {},
   "source": [
    "Importing CSV and loading the file"
   ]
  },
  {
   "cell_type": "code",
   "execution_count": 1,
   "metadata": {},
   "outputs": [],
   "source": [
    "import csv\n",
    "\n",
    "file_path = \"C:/Users/HP/Desktop/csv port/insurance.csv\""
   ]
  },
  {
   "cell_type": "markdown",
   "metadata": {},
   "source": [
    "age: age of primary beneficiary\n",
    "\n",
    "sex: insurance contractor gender, female, male\n",
    "\n",
    "bmi: Body mass index, providing an understanding of body, weights that are relatively high or low relative to height, objective index of body weight (kg / m ^ 2) using the ratio of height to weight\n",
    "\n",
    "children: Number of children covered by health insurance / Number of dependents\n",
    "\n",
    "smoker: Smoking\n",
    "\n",
    "region: the beneficiary's residential area in the US, northeast, southeast, southwest, northwest.\n",
    "\n",
    "charges: Individual medical costs billed by health insurance"
   ]
  },
  {
   "attachments": {},
   "cell_type": "markdown",
   "metadata": {},
   "source": [
    "Saving to column names as variables"
   ]
  },
  {
   "cell_type": "code",
   "execution_count": 2,
   "metadata": {},
   "outputs": [],
   "source": [
    "ages = []\n",
    "sexes = []\n",
    "bmis = []\n",
    "num_children = []\n",
    "smoker_status = []\n",
    "regions = []"
   ]
  },
  {
   "attachments": {},
   "cell_type": "markdown",
   "metadata": {},
   "source": [
    "Converting the CSV file to be used in our python and preview thge first ten rows "
   ]
  },
  {
   "cell_type": "code",
   "execution_count": 6,
   "metadata": {},
   "outputs": [],
   "source": [
    "with open(file_path) as insurance_csv:\n",
    "    insurance_data = csv.DictReader(insurance_csv)\n",
    "    count = 0\n",
    "    for i in insurance_data:\n",
    "        # print(i)\n",
    "        count += 1\n",
    "        if count == 10:\n",
    "            break\n",
    "    insurance_file = list(insurance_data)\n",
    "    ages = [int(item['age']) for item in insurance_file]\n",
    "    sexes = [item['sex'] for item in insurance_file]\n",
    "    bmis = [float(item['bmi']) for item in insurance_file]\n",
    "    num_children = [int(item['children']) for item in insurance_file]\n",
    "    smoker_status = [str(item['smoker']) for item in insurance_file]\n",
    "    regions = [str(item['region']) for item in insurance_file]\n",
    "    insurance_charge = [float(item[\"charges\"]) for item in insurance_file]\n"
   ]
  },
  {
   "attachments": {},
   "cell_type": "markdown",
   "metadata": {},
   "source": [
    "Creating a function to find the average of the fields with numerical values"
   ]
  },
  {
   "cell_type": "code",
   "execution_count": 7,
   "metadata": {},
   "outputs": [],
   "source": [
    "def average_calculator(name, value):\n",
    "    average = sum(value) / len(value)\n",
    "    print(\"The average {} is {}\".format(name, average))\n",
    "    return average"
   ]
  },
  {
   "attachments": {},
   "cell_type": "markdown",
   "metadata": {},
   "source": [
    "Calling our function to find the average Age, BMI and Charges"
   ]
  },
  {
   "cell_type": "code",
   "execution_count": 10,
   "metadata": {},
   "outputs": [
    {
     "name": "stdout",
     "output_type": "stream",
     "text": [
      "The average age is 39.24548192771084\n",
      "The average bmis is 30.676792168674687\n",
      "The average insurance_charge is 13292.398691437502\n"
     ]
    },
    {
     "data": {
      "text/plain": [
       "13292.398691437502"
      ]
     },
     "execution_count": 10,
     "metadata": {},
     "output_type": "execute_result"
    }
   ],
   "source": [
    "average_calculator(\"age\", ages)\n",
    "average_calculator('bmis', bmis)\n",
    "average_calculator('insurance_charge', insurance_charge)"
   ]
  },
  {
   "attachments": {},
   "cell_type": "markdown",
   "metadata": {},
   "source": [
    "Finding the number of Males and Females in this dataset\n"
   ]
  },
  {
   "cell_type": "code",
   "execution_count": 11,
   "metadata": {},
   "outputs": [
    {
     "name": "stdout",
     "output_type": "stream",
     "text": [
      "There are 671 males in this dataset\n",
      "There are 657 females in this dataset\n"
     ]
    }
   ],
   "source": [
    "males = []\n",
    "females = []\n",
    "for i in sexes:\n",
    "    if i == 'male':\n",
    "        males.append(i)\n",
    "    else:\n",
    "        females.append(i)\n",
    "print(\"There are \" + str(len(males)) + \" males in this dataset\")\n",
    "print(\"There are \" + str(len(females)) + \" females in this dataset\")"
   ]
  },
  {
   "attachments": {},
   "cell_type": "markdown",
   "metadata": {},
   "source": [
    "Finding the maximum and minimum BMIs in the dataset"
   ]
  },
  {
   "cell_type": "code",
   "execution_count": 12,
   "metadata": {},
   "outputs": [
    {
     "name": "stdout",
     "output_type": "stream",
     "text": [
      "The maximum BMI in this dataset is 53.13\n",
      "The minimum BMI in this dataset is 15.96\n"
     ]
    }
   ],
   "source": [
    "max_bmi = max(bmis)\n",
    "print(\"The maximum BMI in this dataset is \" + str(max_bmi))\n",
    "min_bmi = min(bmis)\n",
    "print(\"The minimum BMI in this dataset is \" + str(min_bmi))\n"
   ]
  },
  {
   "attachments": {},
   "cell_type": "markdown",
   "metadata": {},
   "source": [
    "Calculating the total number of people representing each region\n"
   ]
  },
  {
   "cell_type": "code",
   "execution_count": 14,
   "metadata": {},
   "outputs": [
    {
     "data": {
      "text/plain": [
       "{'northeast', 'northwest', 'southeast', 'southwest'}"
      ]
     },
     "execution_count": 14,
     "metadata": {},
     "output_type": "execute_result"
    }
   ],
   "source": [
    "distinct_regions = set(regions)\n",
    "distinct_regions"
   ]
  },
  {
   "cell_type": "code",
   "execution_count": 15,
   "metadata": {},
   "outputs": [
    {
     "name": "stdout",
     "output_type": "stream",
     "text": [
      "There are 324 people from southwest in this dataset\n",
      "There are 360 people from southeast in this dataset\n",
      "There are 321 people from northwest in this dataset\n",
      "There are 323 people from northeast in this dataset\n"
     ]
    }
   ],
   "source": [
    "southwest = []\n",
    "southeast = []\n",
    "northwest = []\n",
    "northeast = []\n",
    "for i in regions:\n",
    "    if i == \"southwest\":\n",
    "        southwest.append(i)\n",
    "    elif i == \"southeast\":\n",
    "        southeast.append(i)\n",
    "    elif i == \"northwest\":\n",
    "        northwest.append(i)\n",
    "    else:\n",
    "        northeast.append(i)\n",
    "\n",
    "print(\"There are\", len(southwest),\n",
    "      \"people from southwest in this dataset\")  \n",
    "print(\"There are\", len(southeast),\n",
    "      \"people from southeast in this dataset\")  \n",
    "print(\"There are\", len(northwest),\n",
    "      \"people from northwest in this dataset\")  \n",
    "print(\"There are\", len(northeast),\n",
    "      \"people from northeast in this dataset\")  "
   ]
  },
  {
   "attachments": {},
   "cell_type": "markdown",
   "metadata": {},
   "source": [
    "Finding the oldest and youngest individuals in the dataset"
   ]
  },
  {
   "cell_type": "code",
   "execution_count": 16,
   "metadata": {},
   "outputs": [
    {
     "name": "stdout",
     "output_type": "stream",
     "text": [
      "The oldest person in this dataset is 64 years old\n",
      "The oldest person in this dataset is 18 years old\n"
     ]
    }
   ],
   "source": [
    "oldest = max(ages)\n",
    "print(\"The oldest person in this dataset is \" + str(oldest), \"years old\")  \n",
    "youngest = min(ages)\n",
    "print(\"The oldest person in this dataset is \" +\n",
    "      str(youngest), \"years old\")  \n"
   ]
  }
 ],
 "metadata": {
  "kernelspec": {
   "display_name": "Python 3",
   "language": "python",
   "name": "python3"
  },
  "language_info": {
   "codemirror_mode": {
    "name": "ipython",
    "version": 3
   },
   "file_extension": ".py",
   "mimetype": "text/x-python",
   "name": "python",
   "nbconvert_exporter": "python",
   "pygments_lexer": "ipython3",
   "version": "3.11.1"
  },
  "orig_nbformat": 4
 },
 "nbformat": 4,
 "nbformat_minor": 2
}
